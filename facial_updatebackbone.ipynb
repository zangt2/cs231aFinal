{
  "nbformat": 4,
  "nbformat_minor": 0,
  "metadata": {
    "colab": {
      "provenance": [],
      "gpuType": "A100",
      "machine_shape": "hm"
    },
    "kernelspec": {
      "name": "python3",
      "display_name": "Python 3"
    },
    "language_info": {
      "name": "python"
    },
    "accelerator": "GPU"
  },
  "cells": [
    {
      "cell_type": "code",
      "source": [
        "from google.colab import drive\n",
        "drive.mount('/content/drive')"
      ],
      "metadata": {
        "colab": {
          "base_uri": "https://localhost:8080/"
        },
        "id": "hs8DGiUv9daL",
        "outputId": "e7bdbecc-4399-440d-93ef-94e479dc73ca"
      },
      "execution_count": null,
      "outputs": [
        {
          "output_type": "stream",
          "name": "stdout",
          "text": [
            "Mounted at /content/drive\n"
          ]
        }
      ]
    },
    {
      "cell_type": "code",
      "source": [
        "import shutil\n",
        "import os\n",
        "\n",
        "src_dir = '/content/drive/MyDrive/Colab Notebooks/facial'\n",
        "dst_dir = '/content/'\n",
        "\n",
        "for item in os.listdir(src_dir):\n",
        "    s = os.path.join(src_dir, item)\n",
        "    d = os.path.join(dst_dir, item)\n",
        "    if os.path.isdir(s):\n",
        "        shutil.copytree(s, d, dirs_exist_ok=True)\n",
        "    else:\n",
        "        shutil.copy2(s, d)\n"
      ],
      "metadata": {
        "id": "jgQHJdW291lC"
      },
      "execution_count": null,
      "outputs": []
    },
    {
      "cell_type": "code",
      "source": [],
      "metadata": {
        "id": "Ykzfh4wGt_2r"
      },
      "execution_count": null,
      "outputs": []
    },
    {
      "cell_type": "code",
      "execution_count": null,
      "metadata": {
        "colab": {
          "base_uri": "https://localhost:8080/"
        },
        "id": "mehxENk435Pd",
        "outputId": "44d856fe-8ae0-46a7-e4c6-afc3a8af9d76"
      },
      "outputs": [
        {
          "output_type": "stream",
          "name": "stdout",
          "text": [
            "Sun Jun  1 10:11:43 2025       \n",
            "+-----------------------------------------------------------------------------------------+\n",
            "| NVIDIA-SMI 550.54.15              Driver Version: 550.54.15      CUDA Version: 12.4     |\n",
            "|-----------------------------------------+------------------------+----------------------+\n",
            "| GPU  Name                 Persistence-M | Bus-Id          Disp.A | Volatile Uncorr. ECC |\n",
            "| Fan  Temp   Perf          Pwr:Usage/Cap |           Memory-Usage | GPU-Util  Compute M. |\n",
            "|                                         |                        |               MIG M. |\n",
            "|=========================================+========================+======================|\n",
            "|   0  NVIDIA A100-SXM4-40GB          Off |   00000000:00:04.0 Off |                    0 |\n",
            "| N/A   32C    P0             48W /  400W |       0MiB /  40960MiB |      0%      Default |\n",
            "|                                         |                        |             Disabled |\n",
            "+-----------------------------------------+------------------------+----------------------+\n",
            "                                                                                         \n",
            "+-----------------------------------------------------------------------------------------+\n",
            "| Processes:                                                                              |\n",
            "|  GPU   GI   CI        PID   Type   Process name                              GPU Memory |\n",
            "|        ID   ID                                                               Usage      |\n",
            "|=========================================================================================|\n",
            "|  No running processes found                                                             |\n",
            "+-----------------------------------------------------------------------------------------+\n"
          ]
        }
      ],
      "source": [
        "!nvidia-smi"
      ]
    },
    {
      "cell_type": "code",
      "source": [
        "!git clone https://github.com/minhnhatvt/label-distribution-learning-fer-tf.git\n",
        "%cd label-distribution-learning-fer-tf"
      ],
      "metadata": {
        "colab": {
          "base_uri": "https://localhost:8080/"
        },
        "id": "tHD3OZCS4fWS",
        "outputId": "ece722b8-821a-4807-e801-1992716d387a"
      },
      "execution_count": null,
      "outputs": [
        {
          "output_type": "stream",
          "name": "stdout",
          "text": [
            "Cloning into 'label-distribution-learning-fer-tf'...\n",
            "remote: Enumerating objects: 65, done.\u001b[K\n",
            "remote: Counting objects: 100% (65/65), done.\u001b[K\n",
            "remote: Compressing objects: 100% (63/63), done.\u001b[K\n",
            "remote: Total 65 (delta 26), reused 0 (delta 0), pack-reused 0 (from 0)\u001b[K\n",
            "Receiving objects: 100% (65/65), 27.89 KiB | 125.00 KiB/s, done.\n",
            "Resolving deltas: 100% (26/26), done.\n",
            "/content/label-distribution-learning-fer-tf\n"
          ]
        }
      ]
    },
    {
      "cell_type": "code",
      "source": [
        "!chmod +x install.sh\n",
        "!./install.sh"
      ],
      "metadata": {
        "colab": {
          "base_uri": "https://localhost:8080/"
        },
        "id": "f9GH0IRR4iLY",
        "outputId": "cfd00079-28a6-4f85-d3c1-6fe50339b121"
      },
      "execution_count": null,
      "outputs": [
        {
          "output_type": "stream",
          "name": "stdout",
          "text": [
            "./install.sh: line 1: conda: command not found\n",
            "Requirement already satisfied: pandas in /usr/local/lib/python3.11/dist-packages (2.2.2)\n",
            "Requirement already satisfied: opencv-python in /usr/local/lib/python3.11/dist-packages (4.11.0.86)\n",
            "Requirement already satisfied: scikit-learn in /usr/local/lib/python3.11/dist-packages (1.6.1)\n",
            "Requirement already satisfied: matplotlib in /usr/local/lib/python3.11/dist-packages (3.10.0)\n",
            "Requirement already satisfied: numpy>=1.23.2 in /usr/local/lib/python3.11/dist-packages (from pandas) (2.0.2)\n",
            "Requirement already satisfied: python-dateutil>=2.8.2 in /usr/local/lib/python3.11/dist-packages (from pandas) (2.9.0.post0)\n",
            "Requirement already satisfied: pytz>=2020.1 in /usr/local/lib/python3.11/dist-packages (from pandas) (2025.2)\n",
            "Requirement already satisfied: tzdata>=2022.7 in /usr/local/lib/python3.11/dist-packages (from pandas) (2025.2)\n",
            "Requirement already satisfied: scipy>=1.6.0 in /usr/local/lib/python3.11/dist-packages (from scikit-learn) (1.15.3)\n",
            "Requirement already satisfied: joblib>=1.2.0 in /usr/local/lib/python3.11/dist-packages (from scikit-learn) (1.5.0)\n",
            "Requirement already satisfied: threadpoolctl>=3.1.0 in /usr/local/lib/python3.11/dist-packages (from scikit-learn) (3.6.0)\n",
            "Requirement already satisfied: contourpy>=1.0.1 in /usr/local/lib/python3.11/dist-packages (from matplotlib) (1.3.2)\n",
            "Requirement already satisfied: cycler>=0.10 in /usr/local/lib/python3.11/dist-packages (from matplotlib) (0.12.1)\n",
            "Requirement already satisfied: fonttools>=4.22.0 in /usr/local/lib/python3.11/dist-packages (from matplotlib) (4.58.0)\n",
            "Requirement already satisfied: kiwisolver>=1.3.1 in /usr/local/lib/python3.11/dist-packages (from matplotlib) (1.4.8)\n",
            "Requirement already satisfied: packaging>=20.0 in /usr/local/lib/python3.11/dist-packages (from matplotlib) (24.2)\n",
            "Requirement already satisfied: pillow>=8 in /usr/local/lib/python3.11/dist-packages (from matplotlib) (11.2.1)\n",
            "Requirement already satisfied: pyparsing>=2.3.1 in /usr/local/lib/python3.11/dist-packages (from matplotlib) (3.2.3)\n",
            "Requirement already satisfied: six>=1.5 in /usr/local/lib/python3.11/dist-packages (from python-dateutil>=2.8.2->pandas) (1.17.0)\n",
            "Collecting git+https://github.com/qubvel/classification_models.git\n",
            "  Cloning https://github.com/qubvel/classification_models.git to /tmp/pip-req-build-2oqoz63a\n",
            "  Running command git clone --filter=blob:none --quiet https://github.com/qubvel/classification_models.git /tmp/pip-req-build-2oqoz63a\n",
            "  Resolved https://github.com/qubvel/classification_models.git to commit a0f006e05485a34ccf871c421279864b0ccd220b\n",
            "  Running command git submodule update --init --recursive -q\n",
            "  Preparing metadata (setup.py) ... \u001b[?25l\u001b[?25hdone\n",
            "Collecting keras_applications<=1.0.8,>=1.0.7 (from image_classifiers==1.0.0)\n",
            "  Downloading Keras_Applications-1.0.8-py3-none-any.whl.metadata (1.7 kB)\n",
            "Requirement already satisfied: numpy>=1.9.1 in /usr/local/lib/python3.11/dist-packages (from keras_applications<=1.0.8,>=1.0.7->image_classifiers==1.0.0) (2.0.2)\n",
            "Requirement already satisfied: h5py in /usr/local/lib/python3.11/dist-packages (from keras_applications<=1.0.8,>=1.0.7->image_classifiers==1.0.0) (3.13.0)\n",
            "Downloading Keras_Applications-1.0.8-py3-none-any.whl (50 kB)\n",
            "\u001b[2K   \u001b[90m━━━━━━━━━━━━━━━━━━━━━━━━━━━━━━━━━━━━━━━━\u001b[0m \u001b[32m50.7/50.7 kB\u001b[0m \u001b[31m4.1 MB/s\u001b[0m eta \u001b[36m0:00:00\u001b[0m\n",
            "\u001b[?25hBuilding wheels for collected packages: image_classifiers\n",
            "  Building wheel for image_classifiers (setup.py) ... \u001b[?25l\u001b[?25hdone\n",
            "  Created wheel for image_classifiers: filename=image_classifiers-1.0.0-py3-none-any.whl size=20031 sha256=63e12e2b5e8be68801a0db83257d96ce8090202235544860c7c2b0578babc183\n",
            "  Stored in directory: /tmp/pip-ephem-wheel-cache-ksrd1ieu/wheels/14/43/ed/2d68b197c5260e7fe6b7d0fab20b997b6d365f6f5732316952\n",
            "Successfully built image_classifiers\n",
            "Installing collected packages: keras_applications, image_classifiers\n",
            "Successfully installed image_classifiers-1.0.0 keras_applications-1.0.8\n"
          ]
        }
      ]
    },
    {
      "cell_type": "code",
      "source": [
        "import os\n",
        "\n",
        "os.makedirs(\"data/rafdb\", exist_ok=True)\n",
        "!unzip -q /content/aligned.zip -d data/rafdb/\n"
      ],
      "metadata": {
        "id": "M309vtu4-ZwH"
      },
      "execution_count": null,
      "outputs": []
    },
    {
      "cell_type": "code",
      "source": [
        "os.makedirs('pretrained', exist_ok=True)\n",
        "shutil.move('/content/resnet101.h5', 'pretrained/resnet101.h5')\n",
        "shutil.move('/content/resnet18.h5', 'pretrained/resnet18.h5')\n",
        "shutil.move('/content/resnet50.h5', 'pretrained/resnet50.h5')"
      ],
      "metadata": {
        "colab": {
          "base_uri": "https://localhost:8080/",
          "height": 35
        },
        "id": "2Jb7Ntlx_Scs",
        "outputId": "314cc2de-bf58-4235-d316-4e43fe2c175c"
      },
      "execution_count": null,
      "outputs": [
        {
          "output_type": "execute_result",
          "data": {
            "text/plain": [
              "'pretrained/resnet50.h5'"
            ],
            "application/vnd.google.colaboratory.intrinsic+json": {
              "type": "string"
            }
          },
          "metadata": {},
          "execution_count": 15
        }
      ]
    },
    {
      "cell_type": "code",
      "source": [
        "shutil.move('/content/raf_test.csv', 'data/rafdb/raf_test.csv')\n",
        "shutil.move('/content/raf_train.csv', 'data/rafdb/raf_train.csv')"
      ],
      "metadata": {
        "colab": {
          "base_uri": "https://localhost:8080/",
          "height": 35
        },
        "id": "5Iig0fizAKPg",
        "outputId": "4560ed37-a95d-471d-fe86-1c05dd1c0c4f"
      },
      "execution_count": null,
      "outputs": [
        {
          "output_type": "execute_result",
          "data": {
            "text/plain": [
              "'data/rafdb/raf_train.csv'"
            ],
            "application/vnd.google.colaboratory.intrinsic+json": {
              "type": "string"
            }
          },
          "metadata": {},
          "execution_count": 17
        }
      ]
    },
    {
      "cell_type": "code",
      "source": [
        "!sed -i 's/lr=/learning_rate=/' /content/label-distribution-learning-fer-tf/src/utils.py"
      ],
      "metadata": {
        "id": "A60oFGJzAr09"
      },
      "execution_count": null,
      "outputs": []
    },
    {
      "cell_type": "code",
      "source": [
        "!sed -i \"s/tf.keras.optimizers.SGD(config.lamb_lr, config.lamb_beta)/tf.keras.optimizers.SGD(learning_rate=float(config.lamb_lr), momentum=float(config.lamb_beta))/\" /content/label-distribution-learning-fer-tf/src/train.py"
      ],
      "metadata": {
        "id": "ykuk6p1-B_Vo"
      },
      "execution_count": null,
      "outputs": []
    },
    {
      "cell_type": "code",
      "source": [
        "!sed -i 's/reset_states()/reset_state()/g' /content/label-distribution-learning-fer-tf/src/train.py"
      ],
      "metadata": {
        "id": "p0eGY22SCT6_"
      },
      "execution_count": null,
      "outputs": []
    },
    {
      "cell_type": "code",
      "source": [
        "!sed -i \"s/float(optimizer.learning_rate(optimizer.iterations))/float((optimizer.learning_rate(optimizer.iterations) if callable(optimizer.learning_rate) else optimizer.learning_rate).numpy())/\" /content/label-distribution-learning-fer-tf/src/train.py"
      ],
      "metadata": {
        "id": "cnUeSTL_CeGe"
      },
      "execution_count": null,
      "outputs": []
    },
    {
      "cell_type": "code",
      "source": [
        "!sed -i \"s|model.save_weights(f'{ckpt_dir}/epoch_' + str(curr_epoch) + '/Model')|model.save_weights(f'{ckpt_dir}/epoch_{curr_epoch}/Model.weights.h5')|\" /content/label-distribution-learning-fer-tf/src/train.py\n"
      ],
      "metadata": {
        "id": "iqN2FRcBKJLB"
      },
      "execution_count": null,
      "outputs": []
    },
    {
      "cell_type": "code",
      "source": [
        "!ls /content/label-distribution-learning-fer-tf/src/train.py\n",
        "!grep \"model.save_weights\" /content/label-distribution-learning-fer-tf/src/train.py"
      ],
      "metadata": {
        "colab": {
          "base_uri": "https://localhost:8080/"
        },
        "id": "eyOfrtdAYkLn",
        "outputId": "66719c63-2861-46ac-e07b-faf0ba9628e6"
      },
      "execution_count": null,
      "outputs": [
        {
          "output_type": "stream",
          "name": "stdout",
          "text": [
            "/content/label-distribution-learning-fer-tf/src/train.py\n",
            "                    model.save_weights(f\"{ckpt_dir}/best_val/Model\")\n",
            "            model.save_weights(f'{ckpt_dir}/epoch_{curr_epoch}/Model.weights.h5')\n",
            "                model.save_weights(f\"{ckpt_dir}/best_val/Model\")\n"
          ]
        }
      ]
    },
    {
      "cell_type": "code",
      "source": [
        "!sed -i \"s|model.save_weights(f'{ckpt_dir}/epoch_{curr_epoch}/Model.weights.h5')|os.makedirs(f'{ckpt_dir}/epoch_{curr_epoch}', exist_ok=True); model.save_weights(f'{ckpt_dir}/epoch_{curr_epoch}/Model.weights.h5')|\" /content/label-distribution-learning-fer-tf/src/train.py\n"
      ],
      "metadata": {
        "id": "U8XAxb8eRKq7"
      },
      "execution_count": null,
      "outputs": []
    },
    {
      "cell_type": "code",
      "source": [
        "!grep \"save_weights\" /content/label-distribution-learning-fer-tf/src/train.py"
      ],
      "metadata": {
        "colab": {
          "base_uri": "https://localhost:8080/"
        },
        "id": "Far1sFZPY14i",
        "outputId": "0597e190-61b2-48f7-aacc-d8dfa945863c"
      },
      "execution_count": null,
      "outputs": [
        {
          "output_type": "stream",
          "name": "stdout",
          "text": [
            "                    model.save_weights(f\"{ckpt_dir}/best_val/Model\")\n",
            "            os.makedirs(f'{ckpt_dir}/epoch_{curr_epoch}', exist_ok=True); model.save_weights(f'{ckpt_dir}/epoch_{curr_epoch}/Model.weights.h5')\n",
            "                model.save_weights(f\"{ckpt_dir}/best_val/Model\")\n"
          ]
        }
      ]
    },
    {
      "cell_type": "code",
      "source": [
        "!sed -i \"s/'epochs': *[0-9]\\+/'epochs': 5/\" /content/label-distribution-learning-fer-tf/cfg_files/config_resnet50_raf.py\n"
      ],
      "metadata": {
        "id": "wMTjaZtoZJhJ"
      },
      "execution_count": null,
      "outputs": []
    },
    {
      "cell_type": "code",
      "source": [
        "!grep \"'epochs'\" /content/label-distribution-learning-fer-tf/cfg_files/config_resnet50_raf.py\n"
      ],
      "metadata": {
        "colab": {
          "base_uri": "https://localhost:8080/"
        },
        "id": "BpILosvkZKSn",
        "outputId": "47e35a4d-afda-4b5d-a62c-498e509e3f53"
      },
      "execution_count": null,
      "outputs": [
        {
          "output_type": "stream",
          "name": "stdout",
          "text": [
            "    'epochs': 5,\n"
          ]
        }
      ]
    },
    {
      "cell_type": "code",
      "source": [
        "# !sed -i \"s/'batch_size': *[0-9]\\+/'batch_size': 16/\" /content/label-distribution-learning-fer-tf/cfg_files/config_resnet50_raf.py\n"
      ],
      "metadata": {
        "id": "Hy8Fnmdlrflu"
      },
      "execution_count": null,
      "outputs": []
    },
    {
      "cell_type": "code",
      "source": [
        "# !grep \"'batch_size'\" /content/label-distribution-learning-fer-tf/cfg_files/config_resnet50_raf.py\n"
      ],
      "metadata": {
        "id": "a0Bz0AdZrgKy"
      },
      "execution_count": null,
      "outputs": []
    },
    {
      "cell_type": "code",
      "source": [
        "!python src/train.py \\\n",
        "  --cfg=config_resnet50_raf \\\n",
        "  --train_data_path=data/rafdb/raf_train.csv \\\n",
        "  --train_image_dir=data/rafdb/aligned"
      ],
      "metadata": {
        "colab": {
          "base_uri": "https://localhost:8080/"
        },
        "id": "CtpFRXOMHW3F",
        "outputId": "2c44e7ca-d42e-45a6-913b-18d5d61f480b"
      },
      "execution_count": null,
      "outputs": [
        {
          "output_type": "stream",
          "name": "stdout",
          "text": [
            "2025-06-01 13:33:16.171159: E external/local_xla/xla/stream_executor/cuda/cuda_fft.cc:477] Unable to register cuFFT factory: Attempting to register factory for plugin cuFFT when one has already been registered\n",
            "WARNING: All log messages before absl::InitializeLog() is called are written to STDERR\n",
            "E0000 00:00:1748784796.191148   54664 cuda_dnn.cc:8310] Unable to register cuDNN factory: Attempting to register factory for plugin cuDNN when one has already been registered\n",
            "E0000 00:00:1748784796.197162   54664 cuda_blas.cc:1418] Unable to register cuBLAS factory: Attempting to register factory for plugin cuBLAS when one has already been registered\n",
            "{'name': 'Base Config', 'backbone': 'resnet50', 'feature_dim': 512, 'pretrained': 'msceleb', 'input_size': [112, 112], 'pad_size': 4, 'batch_size': 16, 'num_parallel_calls': -1, 'optimizer': 'adam', 'lr': 0.0001, 'lr_decay': 0.1, 'lr_steps': [10, 30], 'gamma': 0.01, 'num_neighbors': 8, 'lamb_init': 0.5, 'lamb_lr': 10, 'lamb_beta': 0, 'num_classes': 7, 'class_names': ['Neutral', 'Happy', 'Sad', 'Surprise', 'Fear', 'Disgust', 'Anger'], 'class_weights': None, 'val_interval': 200, 'save_interval': 2, 'epochs': 5, 'checkpoint_dir': 'weights_checkpoint/resnet50_raf'}\n",
            "I0000 00:00:1748784800.243948   54664 gpu_device.cc:2022] Created device /job:localhost/replica:0/task:0/device:GPU:0 with 38546 MB memory:  -> device: 0, name: NVIDIA A100-SXM4-40GB, pci bus id: 0000:00:04.0, compute capability: 8.0\n",
            "WARNING:absl:No training configuration found in the save file, so the model was *not* compiled. Compile it manually.\n",
            "/usr/local/lib/python3.11/dist-packages/keras/src/layers/layer.py:393: UserWarning: `build()` was called on layer 'exp_net', however the layer does not have a `build()` method implemented and it looks like it has unbuilt state. This will cause the layer to be marked as built, despite not being actually built, which may cause failures down the line. Make sure to implement a proper `build()` method.\n",
            "  warnings.warn(\n",
            "I0000 00:00:1748784802.561376   54664 cuda_dnn.cc:529] Loaded cuDNN version 90300\n",
            "Model created!\n",
            "/tmp/__autograph_generated_fileai56wl4_.py:134: SyntaxWarning: \"is\" with a literal. Did you mean \"==\"?\n",
            "  ag__.if_stmt(ag__.ld(method) is 'random', if_body_1, else_body_1, get_state_2, set_state_2, ('part3',), 1)\n",
            "/tmp/__autograph_generated_fileai56wl4_.py:136: SyntaxWarning: \"is\" with a literal. Did you mean \"==\"?\n",
            "  ag__.if_stmt(ag__.ld(method) is 'white', if_body_2, else_body_2, get_state_3, set_state_3, ('part3',), 1)\n",
            "/tmp/__autograph_generated_fileai56wl4_.py:138: SyntaxWarning: \"is\" with a literal. Did you mean \"==\"?\n",
            "  ag__.if_stmt(ag__.ld(method) is 'black', if_body_3, else_body_3, get_state_4, set_state_4, ('part3',), 1)\n",
            "Dataset loaded!\n",
            "Start training...\n",
            "Initializing from scratch...\n",
            "Epoch 1\n",
            "LR:  0.0001\n",
            "\u001b[1m493/767\u001b[0m \u001b[32m━━━━━━━━━━━━━━━━━━━\u001b[0m\u001b[37m━━━━━━━━━━━\u001b[0m \u001b[1m7:33\u001b[0m 2s/step - total_loss: 1.4722 - emotion_accuracy: 0.5453 - avg_lamb: 0.6363object address  : 0x13c25413f2e0\n",
            "object refcount : 2\n",
            "object type     : 0x9d5ea0\n",
            "object type name: KeyboardInterrupt\n",
            "object repr     : KeyboardInterrupt()\n",
            "lost sys.stderr\n",
            "^C\n"
          ]
        }
      ]
    },
    {
      "cell_type": "code",
      "source": [
        "!python src/eval.py --cfg=config_resnet50_raf --trained_weights=trained_weights/trained_resnet50_raf --test_data_path=data/rafdb/raf_test.csv --test_image_dir=data/rafdb/aligned"
      ],
      "metadata": {
        "id": "lpCqaWGuHacb"
      },
      "execution_count": null,
      "outputs": []
    },
    {
      "cell_type": "code",
      "source": [
        "\n",
        "!zip -r original_facial.zip label-distribution-learning-fer-tf\n",
        "\n",
        "!mkdir -p /content/drive/MyDrive/original_facial\n",
        "\n",
        "!mv original_facial.zip /content/drive/MyDrive/original_facial/\n"
      ],
      "metadata": {
        "id": "Ogpc2V-JuInY"
      },
      "execution_count": null,
      "outputs": []
    },
    {
      "cell_type": "code",
      "source": [
        "!ls -R label-distribution-learning-fer-tf"
      ],
      "metadata": {
        "id": "xkohILbCuJRJ"
      },
      "execution_count": null,
      "outputs": []
    }
  ]
}